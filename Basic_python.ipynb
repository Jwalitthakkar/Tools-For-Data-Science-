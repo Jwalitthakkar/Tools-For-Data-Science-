{
 "cells": [
  {
   "cell_type": "markdown",
   "id": "4b2d6362-faa0-49fe-8365-b19892dfb94f",
   "metadata": {},
   "source": [
    "# My Jupyter Notebook on IBM Watson Studio"
   ]
  },
  {
   "cell_type": "markdown",
   "id": "6e27562a-b99d-409a-91de-7110ef146553",
   "metadata": {},
   "source": [
    "**Jwalit**"
   ]
  },
  {
   "cell_type": "markdown",
   "id": "65ad77ea-9357-424a-9390-177a446d992e",
   "metadata": {},
   "source": [
    "*I am interested in data science because, I want to combine the power of AI/ML with the business requirements, to create powerful solutions and provide deep insights into issues an organization needs to solve or discover underlying patterns to discover new potential insights*"
   ]
  },
  {
   "cell_type": "markdown",
   "id": "91042fc9-9656-40f5-90aa-6b7c8dbcf614",
   "metadata": {},
   "source": [
    "### The Following Code will generate a random integer between 60 and 90"
   ]
  },
  {
   "cell_type": "code",
   "execution_count": 3,
   "id": "11968fe3-c0ba-4ea3-a2b8-c549f5e5fe06",
   "metadata": {},
   "outputs": [
    {
     "name": "stdout",
     "output_type": "stream",
     "text": [
      "84\n"
     ]
    }
   ],
   "source": [
    "import random\n",
    "\n",
    "Random_int = random.randint(60,90)\n",
    "\n",
    "print(Random_int)"
   ]
  },
  {
   "cell_type": "markdown",
   "id": "686d4f85-fd7f-486a-b0ad-856d9b417004",
   "metadata": {},
   "source": [
    "### Printing Multiplication Table Pattern"
   ]
  },
  {
   "cell_type": "code",
   "execution_count": 5,
   "id": "eedc1800-594a-413b-a267-a66034408f87",
   "metadata": {},
   "outputs": [
    {
     "name": "stdin",
     "output_type": "stream",
     "text": [
      "Enter the number of rows  6\n"
     ]
    },
    {
     "name": "stdout",
     "output_type": "stream",
     "text": [
      "1  \n",
      "2  4  \n",
      "3  6  9  \n",
      "4  8  12  16  \n",
      "5  10  15  20  25  \n",
      "6  12  18  24  30  36  \n"
     ]
    }
   ],
   "source": [
    "rows = int(input(\"Enter the number of rows \"))\n",
    "for i in range(1, rows + 1):\n",
    "    for j in range(1, i + 1):\n",
    "        # multiplication current column and row\n",
    "        square = i * j\n",
    "        print(i * j, end='  ')\n",
    "    print()"
   ]
  }
 ],
 "metadata": {
  "kernelspec": {
   "display_name": "Python",
   "language": "python",
   "name": "conda-env-python-py"
  },
  "language_info": {
   "codemirror_mode": {
    "name": "ipython",
    "version": 3
   },
   "file_extension": ".py",
   "mimetype": "text/x-python",
   "name": "python",
   "nbconvert_exporter": "python",
   "pygments_lexer": "ipython3",
   "version": "3.7.12"
  }
 },
 "nbformat": 4,
 "nbformat_minor": 5
}
